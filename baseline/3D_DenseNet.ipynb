{
 "cells": [
  {
   "cell_type": "code",
   "execution_count": 2,
   "metadata": {
    "execution": {
     "iopub.execute_input": "2025-04-22T13:41:31.190944Z",
     "iopub.status.busy": "2025-04-22T13:41:31.190567Z",
     "iopub.status.idle": "2025-04-22T13:41:44.568469Z",
     "shell.execute_reply": "2025-04-22T13:41:44.567686Z",
     "shell.execute_reply.started": "2025-04-22T13:41:31.190921Z"
    },
    "trusted": true
   },
   "outputs": [],
   "source": [
    "import numpy as np\n",
    "import pandas as pd\n",
    "import matplotlib.pyplot as plt\n",
    "import torch\n",
    "import torch.nn as nn\n",
    "import nibabel as nib\n",
    "from ipywidgets import interact\n",
    "from torch.utils.data import Dataset, DataLoader\n",
    "import os\n",
    "from collections import Counter\n",
    "from pathlib import Path\n",
    "from torch.utils.data import random_split\n",
    "import math\n",
    "import torch.nn.functional as F\n",
    "from collections import OrderedDict\n",
    "import pytorch_lightning as pl"
   ]
  },
  {
   "cell_type": "code",
   "execution_count": 3,
   "metadata": {
    "execution": {
     "iopub.execute_input": "2025-04-22T13:41:44.570017Z",
     "iopub.status.busy": "2025-04-22T13:41:44.569552Z",
     "iopub.status.idle": "2025-04-22T13:41:52.852887Z",
     "shell.execute_reply": "2025-04-22T13:41:52.852176Z",
     "shell.execute_reply.started": "2025-04-22T13:41:44.569985Z"
    },
    "trusted": true
   },
   "outputs": [
    {
     "name": "stderr",
     "output_type": "stream",
     "text": [
      "\u001b[34m\u001b[1mwandb\u001b[0m: \u001b[33mWARNING\u001b[0m If you're specifying your api key in code, ensure this code is not shared publicly.\n",
      "\u001b[34m\u001b[1mwandb\u001b[0m: \u001b[33mWARNING\u001b[0m Consider setting the WANDB_API_KEY environment variable, or running `wandb login` from the command line.\n",
      "\u001b[34m\u001b[1mwandb\u001b[0m: Appending key for api.wandb.ai to your netrc file: /root/.netrc\n",
      "\u001b[34m\u001b[1mwandb\u001b[0m: Currently logged in as: \u001b[33mpage0526\u001b[0m (\u001b[33miai-uet-vnu\u001b[0m) to \u001b[32mhttps://api.wandb.ai\u001b[0m. Use \u001b[1m`wandb login --relogin`\u001b[0m to force relogin\n"
     ]
    },
    {
     "data": {
      "text/plain": [
       "True"
      ]
     },
     "execution_count": 3,
     "metadata": {},
     "output_type": "execute_result"
    }
   ],
   "source": [
    "from kaggle_secrets import UserSecretsClient\n",
    "import wandb\n",
    "\n",
    "user_secrets = UserSecretsClient()\n",
    "wandb_api_key = user_secrets.get_secret(\"wandb_api_key\")\n",
    "wandb.login(key=wandb_api_key)"
   ]
  },
  {
   "cell_type": "code",
   "execution_count": 4,
   "metadata": {
    "execution": {
     "iopub.execute_input": "2025-04-22T13:41:52.854423Z",
     "iopub.status.busy": "2025-04-22T13:41:52.853942Z",
     "iopub.status.idle": "2025-04-22T13:41:53.029291Z",
     "shell.execute_reply": "2025-04-22T13:41:53.028679Z",
     "shell.execute_reply.started": "2025-04-22T13:41:52.854403Z"
    },
    "trusted": true
   },
   "outputs": [
    {
     "data": {
      "text/plain": [
       "((130, 130, 130),\n",
       " array([[1., 0., 0., 0.],\n",
       "        [0., 1., 0., 0.],\n",
       "        [0., 0., 1., 0.],\n",
       "        [0., 0., 0., 1.]]),\n",
       " <nibabel.nifti1.Nifti1Header at 0x78a4c5a9a090>)"
      ]
     },
     "execution_count": 4,
     "metadata": {},
     "output_type": "execute_result"
    }
   ],
   "source": [
    "im = nib.load('/kaggle/input/mri-dataset/not_skull_stripped/sub-BrainAge000000/anat/sub-BrainAge000000_T1w.nii/sub-BrainAge000000_T1w.nii')\n",
    "data = im.get_fdata()\n",
    "data.shape, im.affine, im.header"
   ]
  },
  {
   "cell_type": "code",
   "execution_count": 5,
   "metadata": {
    "execution": {
     "iopub.execute_input": "2025-04-22T13:41:53.031056Z",
     "iopub.status.busy": "2025-04-22T13:41:53.030815Z",
     "iopub.status.idle": "2025-04-22T13:41:53.256275Z",
     "shell.execute_reply": "2025-04-22T13:41:53.255599Z",
     "shell.execute_reply.started": "2025-04-22T13:41:53.031024Z"
    },
    "trusted": true
   },
   "outputs": [
    {
     "data": {
      "application/vnd.jupyter.widget-view+json": {
       "model_id": "5ad3d806f25740fa92b58424e5982cef",
       "version_major": 2,
       "version_minor": 0
      },
      "text/plain": [
       "interactive(children=(IntSlider(value=64, description='slice_index', max=129), Output()), _dom_classes=('widge…"
      ]
     },
     "metadata": {},
     "output_type": "display_data"
    }
   ],
   "source": [
    "def show_slice(slice_index):\n",
    "    plt.imshow(data[:, :, slice_index], cmap='gray')\n",
    "    plt.title(f\"Axial Slice {slice_index}\")\n",
    "    plt.axis('off')\n",
    "    plt.show()\n",
    "\n",
    "interact(show_slice, slice_index=(0, data.shape[2] - 1));"
   ]
  },
  {
   "cell_type": "code",
   "execution_count": 6,
   "metadata": {
    "execution": {
     "iopub.execute_input": "2025-04-22T13:41:53.257842Z",
     "iopub.status.busy": "2025-04-22T13:41:53.257054Z",
     "iopub.status.idle": "2025-04-22T13:41:55.575913Z",
     "shell.execute_reply": "2025-04-22T13:41:55.575322Z",
     "shell.execute_reply.started": "2025-04-22T13:41:53.257822Z"
    },
    "trusted": true
   },
   "outputs": [],
   "source": [
    "# read label csv\n",
    "data_dir = '/kaggle/input/mri-dataset/not_skull_stripped'\n",
    "label_path = list(Path(data_dir).glob(\"*.xlsx\"))\n",
    "label_ls = pd.read_excel(label_path[0])"
   ]
  },
  {
   "cell_type": "code",
   "execution_count": 7,
   "metadata": {
    "execution": {
     "iopub.execute_input": "2025-04-22T13:41:55.577157Z",
     "iopub.status.busy": "2025-04-22T13:41:55.576717Z",
     "iopub.status.idle": "2025-04-22T13:41:55.602046Z",
     "shell.execute_reply": "2025-04-22T13:41:55.601474Z",
     "shell.execute_reply.started": "2025-04-22T13:41:55.577135Z"
    },
    "trusted": true
   },
   "outputs": [
    {
     "data": {
      "text/html": [
       "<div>\n",
       "<style scoped>\n",
       "    .dataframe tbody tr th:only-of-type {\n",
       "        vertical-align: middle;\n",
       "    }\n",
       "\n",
       "    .dataframe tbody tr th {\n",
       "        vertical-align: top;\n",
       "    }\n",
       "\n",
       "    .dataframe thead th {\n",
       "        text-align: right;\n",
       "    }\n",
       "</style>\n",
       "<table border=\"1\" class=\"dataframe\">\n",
       "  <thead>\n",
       "    <tr style=\"text-align: right;\">\n",
       "      <th></th>\n",
       "      <th>subject_age</th>\n",
       "      <th>subject_dx</th>\n",
       "      <th>subject_sex</th>\n",
       "      <th>subject_id</th>\n",
       "      <th>dataset_name</th>\n",
       "    </tr>\n",
       "  </thead>\n",
       "  <tbody>\n",
       "    <tr>\n",
       "      <th>0</th>\n",
       "      <td>55.4</td>\n",
       "      <td>pathology</td>\n",
       "      <td>m</td>\n",
       "      <td>sub-BrainAge000000</td>\n",
       "      <td>ABIDE/Caltech</td>\n",
       "    </tr>\n",
       "    <tr>\n",
       "      <th>1</th>\n",
       "      <td>22.9</td>\n",
       "      <td>pathology</td>\n",
       "      <td>m</td>\n",
       "      <td>sub-BrainAge000001</td>\n",
       "      <td>ABIDE/Caltech</td>\n",
       "    </tr>\n",
       "    <tr>\n",
       "      <th>2</th>\n",
       "      <td>39.2</td>\n",
       "      <td>pathology</td>\n",
       "      <td>m</td>\n",
       "      <td>sub-BrainAge000002</td>\n",
       "      <td>ABIDE/Caltech</td>\n",
       "    </tr>\n",
       "    <tr>\n",
       "      <th>3</th>\n",
       "      <td>22.8</td>\n",
       "      <td>pathology</td>\n",
       "      <td>m</td>\n",
       "      <td>sub-BrainAge000003</td>\n",
       "      <td>ABIDE/Caltech</td>\n",
       "    </tr>\n",
       "    <tr>\n",
       "      <th>4</th>\n",
       "      <td>34.6</td>\n",
       "      <td>pathology</td>\n",
       "      <td>f</td>\n",
       "      <td>sub-BrainAge000004</td>\n",
       "      <td>ABIDE/Caltech</td>\n",
       "    </tr>\n",
       "    <tr>\n",
       "      <th>...</th>\n",
       "      <td>...</td>\n",
       "      <td>...</td>\n",
       "      <td>...</td>\n",
       "      <td>...</td>\n",
       "      <td>...</td>\n",
       "    </tr>\n",
       "    <tr>\n",
       "      <th>23209</th>\n",
       "      <td>66</td>\n",
       "      <td>control</td>\n",
       "      <td>f</td>\n",
       "      <td>sub-BrainAge023209</td>\n",
       "      <td>RocklandSample</td>\n",
       "    </tr>\n",
       "    <tr>\n",
       "      <th>23210</th>\n",
       "      <td>69</td>\n",
       "      <td>control</td>\n",
       "      <td>m</td>\n",
       "      <td>sub-BrainAge023210</td>\n",
       "      <td>RocklandSample</td>\n",
       "    </tr>\n",
       "    <tr>\n",
       "      <th>23211</th>\n",
       "      <td>23</td>\n",
       "      <td>control</td>\n",
       "      <td>m</td>\n",
       "      <td>sub-BrainAge023211</td>\n",
       "      <td>RocklandSample</td>\n",
       "    </tr>\n",
       "    <tr>\n",
       "      <th>23212</th>\n",
       "      <td>54</td>\n",
       "      <td>control</td>\n",
       "      <td>f</td>\n",
       "      <td>sub-BrainAge023212</td>\n",
       "      <td>RocklandSample</td>\n",
       "    </tr>\n",
       "    <tr>\n",
       "      <th>23213</th>\n",
       "      <td>75</td>\n",
       "      <td>control</td>\n",
       "      <td>f</td>\n",
       "      <td>sub-BrainAge023213</td>\n",
       "      <td>RocklandSample</td>\n",
       "    </tr>\n",
       "  </tbody>\n",
       "</table>\n",
       "<p>23214 rows × 5 columns</p>\n",
       "</div>"
      ],
      "text/plain": [
       "      subject_age subject_dx subject_sex          subject_id    dataset_name\n",
       "0            55.4  pathology           m  sub-BrainAge000000   ABIDE/Caltech\n",
       "1            22.9  pathology           m  sub-BrainAge000001   ABIDE/Caltech\n",
       "2            39.2  pathology           m  sub-BrainAge000002   ABIDE/Caltech\n",
       "3            22.8  pathology           m  sub-BrainAge000003   ABIDE/Caltech\n",
       "4            34.6  pathology           f  sub-BrainAge000004   ABIDE/Caltech\n",
       "...           ...        ...         ...                 ...             ...\n",
       "23209          66    control           f  sub-BrainAge023209  RocklandSample\n",
       "23210          69    control           m  sub-BrainAge023210  RocklandSample\n",
       "23211          23    control           m  sub-BrainAge023211  RocklandSample\n",
       "23212          54    control           f  sub-BrainAge023212  RocklandSample\n",
       "23213          75    control           f  sub-BrainAge023213  RocklandSample\n",
       "\n",
       "[23214 rows x 5 columns]"
      ]
     },
     "execution_count": 7,
     "metadata": {},
     "output_type": "execute_result"
    }
   ],
   "source": [
    "label_ls"
   ]
  },
  {
   "cell_type": "code",
   "execution_count": 8,
   "metadata": {
    "execution": {
     "iopub.execute_input": "2025-04-22T13:41:55.602967Z",
     "iopub.status.busy": "2025-04-22T13:41:55.602721Z",
     "iopub.status.idle": "2025-04-22T13:41:55.613989Z",
     "shell.execute_reply": "2025-04-22T13:41:55.613470Z",
     "shell.execute_reply.started": "2025-04-22T13:41:55.602942Z"
    },
    "trusted": true
   },
   "outputs": [],
   "source": [
    "label_ls = label_ls[(label_ls['subject_dx'] == 'control') & ((label_ls['subject_sex'] == 'm') | (label_ls['subject_sex'] == 'f'))]"
   ]
  },
  {
   "cell_type": "code",
   "execution_count": 9,
   "metadata": {
    "execution": {
     "iopub.execute_input": "2025-04-22T13:41:55.614906Z",
     "iopub.status.busy": "2025-04-22T13:41:55.614682Z",
     "iopub.status.idle": "2025-04-22T13:41:55.630263Z",
     "shell.execute_reply": "2025-04-22T13:41:55.629722Z",
     "shell.execute_reply.started": "2025-04-22T13:41:55.614887Z"
    },
    "trusted": true
   },
   "outputs": [
    {
     "data": {
      "text/plain": [
       "(   subject_age subject_dx subject_sex          subject_id   dataset_name\n",
       " 19        44.2    control           m  sub-BrainAge000019  ABIDE/Caltech\n",
       " 20        39.3    control           m  sub-BrainAge000020  ABIDE/Caltech\n",
       " 21        42.5    control           m  sub-BrainAge000021  ABIDE/Caltech\n",
       " 22        19.7    control           m  sub-BrainAge000022  ABIDE/Caltech\n",
       " 23          20    control           f  sub-BrainAge000023  ABIDE/Caltech,\n",
       " 8764)"
      ]
     },
     "execution_count": 9,
     "metadata": {},
     "output_type": "execute_result"
    }
   ],
   "source": [
    "label_ls.head(), len(label_ls)"
   ]
  },
  {
   "cell_type": "code",
   "execution_count": 10,
   "metadata": {
    "execution": {
     "iopub.execute_input": "2025-04-22T13:41:55.631277Z",
     "iopub.status.busy": "2025-04-22T13:41:55.631020Z",
     "iopub.status.idle": "2025-04-22T13:41:55.651364Z",
     "shell.execute_reply": "2025-04-22T13:41:55.650823Z",
     "shell.execute_reply.started": "2025-04-22T13:41:55.631256Z"
    },
    "trusted": true
   },
   "outputs": [
    {
     "data": {
      "text/html": [
       "<div>\n",
       "<style scoped>\n",
       "    .dataframe tbody tr th:only-of-type {\n",
       "        vertical-align: middle;\n",
       "    }\n",
       "\n",
       "    .dataframe tbody tr th {\n",
       "        vertical-align: top;\n",
       "    }\n",
       "\n",
       "    .dataframe thead th {\n",
       "        text-align: right;\n",
       "    }\n",
       "</style>\n",
       "<table border=\"1\" class=\"dataframe\">\n",
       "  <thead>\n",
       "    <tr style=\"text-align: right;\">\n",
       "      <th></th>\n",
       "      <th>subject_sex</th>\n",
       "      <th>subject_id</th>\n",
       "    </tr>\n",
       "  </thead>\n",
       "  <tbody>\n",
       "    <tr>\n",
       "      <th>19</th>\n",
       "      <td>m</td>\n",
       "      <td>sub-BrainAge000019</td>\n",
       "    </tr>\n",
       "    <tr>\n",
       "      <th>20</th>\n",
       "      <td>m</td>\n",
       "      <td>sub-BrainAge000020</td>\n",
       "    </tr>\n",
       "    <tr>\n",
       "      <th>21</th>\n",
       "      <td>m</td>\n",
       "      <td>sub-BrainAge000021</td>\n",
       "    </tr>\n",
       "    <tr>\n",
       "      <th>22</th>\n",
       "      <td>m</td>\n",
       "      <td>sub-BrainAge000022</td>\n",
       "    </tr>\n",
       "    <tr>\n",
       "      <th>23</th>\n",
       "      <td>f</td>\n",
       "      <td>sub-BrainAge000023</td>\n",
       "    </tr>\n",
       "  </tbody>\n",
       "</table>\n",
       "</div>"
      ],
      "text/plain": [
       "   subject_sex          subject_id\n",
       "19           m  sub-BrainAge000019\n",
       "20           m  sub-BrainAge000020\n",
       "21           m  sub-BrainAge000021\n",
       "22           m  sub-BrainAge000022\n",
       "23           f  sub-BrainAge000023"
      ]
     },
     "execution_count": 10,
     "metadata": {},
     "output_type": "execute_result"
    }
   ],
   "source": [
    "sexes = label_ls[['subject_sex','subject_id']]\n",
    "sexes.head()"
   ]
  },
  {
   "cell_type": "code",
   "execution_count": 11,
   "metadata": {
    "execution": {
     "iopub.execute_input": "2025-04-22T13:41:55.653792Z",
     "iopub.status.busy": "2025-04-22T13:41:55.653540Z",
     "iopub.status.idle": "2025-04-22T13:41:55.673688Z",
     "shell.execute_reply": "2025-04-22T13:41:55.673093Z",
     "shell.execute_reply.started": "2025-04-22T13:41:55.653776Z"
    },
    "trusted": true
   },
   "outputs": [
    {
     "data": {
      "text/plain": [
       "8764"
      ]
     },
     "execution_count": 11,
     "metadata": {},
     "output_type": "execute_result"
    }
   ],
   "source": [
    "sexes_dict = sexes.set_index('subject_id')['subject_sex'].to_dict()\n",
    "len(sexes_dict)"
   ]
  },
  {
   "cell_type": "code",
   "execution_count": null,
   "metadata": {
    "execution": {
     "iopub.execute_input": "2025-04-22T13:41:55.674624Z",
     "iopub.status.busy": "2025-04-22T13:41:55.674365Z",
     "iopub.status.idle": "2025-04-22T13:41:55.687551Z",
     "shell.execute_reply": "2025-04-22T13:41:55.686995Z",
     "shell.execute_reply.started": "2025-04-22T13:41:55.674604Z"
    },
    "trusted": true
   },
   "outputs": [],
   "source": [
    "class MRIDataset(Dataset):\n",
    "    def __init__(self, im_dir, label_ls, transform=None):\n",
    "        self.im_dir = Path(im_dir)\n",
    "        self.label_ls = label_ls\n",
    "        self.transform = transform\n",
    "\n",
    "        # Gather valid image paths\n",
    "        self.im_filenames = [\n",
    "            path for path in sorted(self.im_dir.glob(\"*/*/*/*.nii\"))\n",
    "            if self._is_valid(path)\n",
    "        ]\n",
    "\n",
    "    def _is_valid(self, path):\n",
    "        subject_id = self.extract_subject_id(path)\n",
    "        if subject_id not in self.label_ls:\n",
    "            return False\n",
    "        try:\n",
    "            nib.load(path).get_fdata()  # just try loading (don't call get_fdata() yet)\n",
    "            return True\n",
    "        except Exception:\n",
    "            return False\n",
    "\n",
    "    def extract_subject_id(self, im_path):\n",
    "        for part in Path(im_path).parts:\n",
    "            if part.startswith(\"sub-BrainAge\"):\n",
    "                return part\n",
    "        return None\n",
    "\n",
    "    def __len__(self):\n",
    "        return len(self.im_filenames)\n",
    "\n",
    "    def __getitem__(self, idx):\n",
    "        im_path = self.im_filenames[idx]\n",
    "        im = nib.load(im_path).get_fdata()\n",
    "\n",
    "        # Normalize\n",
    "        im = (im - np.min(im)) / (np.max(im) - np.min(im) + 1e-5)  # avoid divide-by-zero\n",
    "        im = im.astype(np.float32)\n",
    "\n",
    "        subject_id = self.extract_subject_id(im_path)\n",
    "        sex = self.label_ls.get(subject_id)\n",
    "        if sex == 'm':\n",
    "            label = 0\n",
    "        elif sex == 'f':\n",
    "            label = 1\n",
    "        else:\n",
    "            raise ValueError(f\"Invalid label for subject {subject_id}: {sex}\")\n",
    "\n",
    "        if self.transform:\n",
    "            im = self.transform(im)\n",
    "\n",
    "        # add channel dim\n",
    "        return torch.as_tensor(im), torch.tensor(label, dtype=torch.long)\n"
   ]
  },
  {
   "cell_type": "code",
   "execution_count": 13,
   "metadata": {
    "execution": {
     "iopub.execute_input": "2025-04-22T13:41:55.688599Z",
     "iopub.status.busy": "2025-04-22T13:41:55.688292Z",
     "iopub.status.idle": "2025-04-22T13:53:44.963487Z",
     "shell.execute_reply": "2025-04-22T13:53:44.962855Z",
     "shell.execute_reply.started": "2025-04-22T13:41:55.688582Z"
    },
    "trusted": true
   },
   "outputs": [
    {
     "data": {
      "text/plain": [
       "4948"
      ]
     },
     "execution_count": 13,
     "metadata": {},
     "output_type": "execute_result"
    }
   ],
   "source": [
    "dataset = MRIDataset(data_dir, sexes_dict)\n",
    "# check length\n",
    "len(dataset)"
   ]
  },
  {
   "cell_type": "code",
   "execution_count": 14,
   "metadata": {
    "execution": {
     "iopub.execute_input": "2025-04-22T13:53:44.964466Z",
     "iopub.status.busy": "2025-04-22T13:53:44.964245Z",
     "iopub.status.idle": "2025-04-22T13:53:44.969282Z",
     "shell.execute_reply": "2025-04-22T13:53:44.968553Z",
     "shell.execute_reply.started": "2025-04-22T13:53:44.964444Z"
    },
    "trusted": true
   },
   "outputs": [],
   "source": [
    "def visualize_interact(dataset, seed=0):\n",
    "    # Select one random image\n",
    "    np.random.seed(seed)\n",
    "    idx = np.random.choice(len(dataset))\n",
    "    im, label = dataset[idx]\n",
    "    im = im.numpy()\n",
    "\n",
    "    # Interactive slider\n",
    "    def show_slice(slice_index):\n",
    "        plt.imshow(im[:, :, slice_index], cmap='gray')\n",
    "        plt.title(f'Axial Slice {slice_index} | Label: {label}')\n",
    "        plt.axis('off')\n",
    "        plt.show()\n",
    "\n",
    "    interact(show_slice, slice_index=(0, im.shape[2] - 1))"
   ]
  },
  {
   "cell_type": "code",
   "execution_count": 15,
   "metadata": {
    "execution": {
     "iopub.execute_input": "2025-04-22T13:53:44.970235Z",
     "iopub.status.busy": "2025-04-22T13:53:44.969933Z",
     "iopub.status.idle": "2025-04-22T13:53:45.349570Z",
     "shell.execute_reply": "2025-04-22T13:53:45.349048Z",
     "shell.execute_reply.started": "2025-04-22T13:53:44.970218Z"
    },
    "trusted": true
   },
   "outputs": [
    {
     "data": {
      "application/vnd.jupyter.widget-view+json": {
       "model_id": "1c6ec3df1b774c959ed36d7a794d5078",
       "version_major": 2,
       "version_minor": 0
      },
      "text/plain": [
       "interactive(children=(IntSlider(value=64, description='slice_index', max=129), Output()), _dom_classes=('widge…"
      ]
     },
     "metadata": {},
     "output_type": "display_data"
    },
    {
     "data": {
      "application/vnd.jupyter.widget-view+json": {
       "model_id": "c6870dab9266400bb29d8138845dd479",
       "version_major": 2,
       "version_minor": 0
      },
      "text/plain": [
       "interactive(children=(IntSlider(value=64, description='slice_index', max=129), Output()), _dom_classes=('widge…"
      ]
     },
     "metadata": {},
     "output_type": "display_data"
    },
    {
     "data": {
      "text/plain": [
       "(None, None)"
      ]
     },
     "execution_count": 15,
     "metadata": {},
     "output_type": "execute_result"
    }
   ],
   "source": [
    "visualize_interact(dataset, seed=123), visualize_interact(dataset, seed=1024)"
   ]
  },
  {
   "cell_type": "code",
   "execution_count": 16,
   "metadata": {
    "execution": {
     "iopub.execute_input": "2025-04-22T13:53:45.350564Z",
     "iopub.status.busy": "2025-04-22T13:53:45.350264Z",
     "iopub.status.idle": "2025-04-22T13:53:45.355182Z",
     "shell.execute_reply": "2025-04-22T13:53:45.354468Z",
     "shell.execute_reply.started": "2025-04-22T13:53:45.350541Z"
    },
    "trusted": true
   },
   "outputs": [],
   "source": [
    "def distribution(dataset):\n",
    "    labels = [int(dataset[i][1]) for i in range(len(dataset))]\n",
    "    label_counts = Counter(labels)\n",
    "    plt.figure(figsize=(8, 5))\n",
    "    plt.bar(label_counts.keys(), label_counts.values(), color='skyblue')\n",
    "    plt.title('Label Distribution')\n",
    "    plt.xlabel('Label')\n",
    "    plt.ylabel('Count')\n",
    "    plt.tight_layout()\n",
    "    plt.show()"
   ]
  },
  {
   "cell_type": "code",
   "execution_count": 17,
   "metadata": {
    "execution": {
     "iopub.execute_input": "2025-04-22T13:53:45.356110Z",
     "iopub.status.busy": "2025-04-22T13:53:45.355888Z",
     "iopub.status.idle": "2025-04-22T14:01:47.825921Z",
     "shell.execute_reply": "2025-04-22T14:01:47.825230Z",
     "shell.execute_reply.started": "2025-04-22T13:53:45.356088Z"
    },
    "trusted": true
   },
   "outputs": [
    {
     "data": {
      "image/png": "[encoded data removed]",
      "text/plain": [
       "<Figure size 800x500 with 1 Axes>"
      ]
     },
     "metadata": {},
     "output_type": "display_data"
    }
   ],
   "source": [
    "distribution(dataset)"
   ]
  },
  {
   "cell_type": "code",
   "execution_count": 18,
   "metadata": {
    "execution": {
     "iopub.execute_input": "2025-04-22T14:01:47.826834Z",
     "iopub.status.busy": "2025-04-22T14:01:47.826647Z",
     "iopub.status.idle": "2025-04-22T14:01:47.845889Z",
     "shell.execute_reply": "2025-04-22T14:01:47.845364Z",
     "shell.execute_reply.started": "2025-04-22T14:01:47.826820Z"
    },
    "trusted": true
   },
   "outputs": [],
   "source": [
    "train_ratio = 0.7\n",
    "val_ratio = 0.1\n",
    "test_ratio = 0.2\n",
    "\n",
    "total_size = len(dataset)\n",
    "train_size = int(train_ratio * total_size)\n",
    "val_size = int(val_ratio * total_size)\n",
    "test_size = total_size - train_size - val_size\n",
    "\n",
    "trainset, valset, testset = random_split(dataset, [train_size, val_size, test_size], generator=torch.Generator().manual_seed(42))\n",
    "\n",
    "trainloader = DataLoader(trainset, batch_size = 16, shuffle=True, num_workers=2)\n",
    "testloader = DataLoader(testset, batch_size = 16, shuffle=False, num_workers=2)\n",
    "valloader = DataLoader(valset, batch_size = 16, shuffle=False, num_workers=2)"
   ]
  },
  {
   "cell_type": "code",
   "execution_count": 19,
   "metadata": {
    "execution": {
     "iopub.execute_input": "2025-04-22T14:01:47.847078Z",
     "iopub.status.busy": "2025-04-22T14:01:47.846796Z",
     "iopub.status.idle": "2025-04-22T14:01:47.863264Z",
     "shell.execute_reply": "2025-04-22T14:01:47.862592Z",
     "shell.execute_reply.started": "2025-04-22T14:01:47.847054Z"
    },
    "trusted": true
   },
   "outputs": [],
   "source": [
    "class _DenseLayer(nn.Sequential):\n",
    "\n",
    "    def __init__(self, num_input_features, growth_rate, bn_size, drop_rate):\n",
    "        super().__init__()\n",
    "        self.add_module('norm1', nn.BatchNorm3d(num_input_features))\n",
    "        self.add_module('relu1', nn.ReLU(inplace=True))\n",
    "        self.add_module(\n",
    "            'conv1',\n",
    "            nn.Conv3d(num_input_features,\n",
    "                      bn_size * growth_rate,\n",
    "                      kernel_size=1,\n",
    "                      stride=1,\n",
    "                      bias=False))\n",
    "        self.add_module('norm2', nn.BatchNorm3d(bn_size * growth_rate))\n",
    "        self.add_module('relu2', nn.ReLU(inplace=True))\n",
    "        self.add_module(\n",
    "            'conv2',\n",
    "            nn.Conv3d(bn_size * growth_rate,\n",
    "                      growth_rate,\n",
    "                      kernel_size=3,\n",
    "                      stride=1,\n",
    "                      padding=1,\n",
    "                      bias=False))\n",
    "        self.drop_rate = drop_rate\n",
    "\n",
    "    def forward(self, x):\n",
    "        new_features = super().forward(x)\n",
    "        if self.drop_rate > 0:\n",
    "            new_features = F.dropout(new_features,\n",
    "                                     p=self.drop_rate,\n",
    "                                     training=self.training)\n",
    "        return torch.cat([x, new_features], 1)\n",
    "\n",
    "\n",
    "class _DenseBlock(nn.Sequential):\n",
    "\n",
    "    def __init__(self, num_layers, num_input_features, bn_size, growth_rate,\n",
    "                 drop_rate):\n",
    "        super().__init__()\n",
    "        for i in range(num_layers):\n",
    "            layer = _DenseLayer(num_input_features + i * growth_rate,\n",
    "                                growth_rate, bn_size, drop_rate)\n",
    "            self.add_module('denselayer{}'.format(i + 1), layer)\n",
    "\n",
    "\n",
    "class _Transition(nn.Sequential):\n",
    "\n",
    "    def __init__(self, num_input_features, num_output_features):\n",
    "        super().__init__()\n",
    "        self.add_module('norm', nn.BatchNorm3d(num_input_features))\n",
    "        self.add_module('relu', nn.ReLU(inplace=True))\n",
    "        self.add_module(\n",
    "            'conv',\n",
    "            nn.Conv3d(num_input_features,\n",
    "                      num_output_features,\n",
    "                      kernel_size=1,\n",
    "                      stride=1,\n",
    "                      bias=False))\n",
    "        self.add_module('pool', nn.AvgPool3d(kernel_size=2, stride=2))\n",
    "\n",
    "\n",
    "class DenseNet(nn.Module):\n",
    "    \n",
    "    \"\"\"\n",
    "    Densenet-BC model class\n",
    "    \n",
    "    Args:\n",
    "        growth_rate (int) - how many filters to add each layer (k in paper)\n",
    "        block_config (list of 4 ints) - how many layers in each pooling block\n",
    "        num_init_features (int) - the number of filters to learn in the first convolution layer\n",
    "        bn_size (int) - multiplicative factor for number of bottle neck layers\n",
    "          (i.e. bn_size * k features in the bottleneck layer)\n",
    "        drop_rate (float) - dropout rate after each dense layer\n",
    "        num_classes (int) - number of classification classes\n",
    "    \"\"\"\n",
    "\n",
    "    def __init__(self,\n",
    "                 n_input_channels=1,\n",
    "                 conv1_t_size=7,\n",
    "                 conv1_t_stride=1,\n",
    "                 no_max_pool=False,\n",
    "                 growth_rate=32,\n",
    "                 block_config=(6, 12, 24, 16),\n",
    "                 num_init_features=64,\n",
    "                 bn_size=4,\n",
    "                 drop_rate=0,\n",
    "                 num_classes=1):\n",
    "\n",
    "        super().__init__()\n",
    "\n",
    "        # First convolution\n",
    "        self.features = [('conv1',\n",
    "                          nn.Conv3d(n_input_channels,\n",
    "                                    num_init_features,\n",
    "                                    kernel_size=(conv1_t_size, 7, 7),\n",
    "                                    stride=(conv1_t_stride, 2, 2),\n",
    "                                    padding=(conv1_t_size // 2, 3, 3),\n",
    "                                    bias=False)),\n",
    "                         ('norm1', nn.BatchNorm3d(num_init_features)),\n",
    "                         ('relu1', nn.ReLU(inplace=True))]\n",
    "        if not no_max_pool:\n",
    "            self.features.append(\n",
    "                ('pool1', nn.MaxPool3d(kernel_size=3, stride=2, padding=1)))\n",
    "        self.features = nn.Sequential(OrderedDict(self.features))\n",
    "\n",
    "        # Each denseblock\n",
    "        num_features = num_init_features\n",
    "        for i, num_layers in enumerate(block_config):\n",
    "            block = _DenseBlock(num_layers=num_layers,\n",
    "                                num_input_features=num_features,\n",
    "                                bn_size=bn_size,\n",
    "                                growth_rate=growth_rate,\n",
    "                                drop_rate=drop_rate)\n",
    "            self.features.add_module('denseblock{}'.format(i + 1), block)\n",
    "            num_features = num_features + num_layers * growth_rate\n",
    "            if i != len(block_config) - 1:\n",
    "                trans = _Transition(num_input_features=num_features,\n",
    "                                    num_output_features=num_features // 2)\n",
    "                self.features.add_module('transition{}'.format(i + 1), trans)\n",
    "                num_features = num_features // 2\n",
    "\n",
    "        # Final batch norm\n",
    "        self.features.add_module('norm5', nn.BatchNorm3d(num_features))\n",
    "\n",
    "        for m in self.modules():\n",
    "            if isinstance(m, nn.Conv3d):\n",
    "                m.weight = nn.init.kaiming_normal(m.weight, mode='fan_out')\n",
    "            elif isinstance(m, nn.BatchNorm3d) or isinstance(m, nn.BatchNorm2d):\n",
    "                m.weight.data.fill_(1)\n",
    "                m.bias.data.zero_()\n",
    "\n",
    "        # Linear layer\n",
    "        self.classifier = nn.Linear(num_features, num_classes)\n",
    "\n",
    "        for m in self.modules():\n",
    "            if isinstance(m, nn.Conv3d):\n",
    "                nn.init.kaiming_normal_(m.weight,\n",
    "                                        mode='fan_out',\n",
    "                                        nonlinearity='relu')\n",
    "            elif isinstance(m, nn.BatchNorm3d):\n",
    "                nn.init.constant_(m.weight, 1)\n",
    "                nn.init.constant_(m.bias, 0)\n",
    "            elif isinstance(m, nn.Linear):\n",
    "                nn.init.constant_(m.bias, 0)\n",
    "\n",
    "    def forward(self, x):\n",
    "        features = self.features(x)\n",
    "        out = F.relu(features, inplace=True)\n",
    "        out = F.adaptive_avg_pool3d(out,\n",
    "                                    output_size=(1, 1,\n",
    "                                                 1)).view(features.size(0), -1)\n",
    "        out = self.classifier(out)\n",
    "        return out\n",
    " "
   ]
  },
  {
   "cell_type": "code",
   "execution_count": 20,
   "metadata": {
    "execution": {
     "iopub.execute_input": "2025-04-22T14:01:47.864131Z",
     "iopub.status.busy": "2025-04-22T14:01:47.863882Z",
     "iopub.status.idle": "2025-04-22T14:01:47.978201Z",
     "shell.execute_reply": "2025-04-22T14:01:47.977481Z",
     "shell.execute_reply.started": "2025-04-22T14:01:47.864106Z"
    },
    "trusted": true
   },
   "outputs": [
    {
     "name": "stderr",
     "output_type": "stream",
     "text": [
      "/tmp/ipykernel_31/2273666224.py:127: FutureWarning: `nn.init.kaiming_normal` is now deprecated in favor of `nn.init.kaiming_normal_`.\n",
      "  m.weight = nn.init.kaiming_normal(m.weight, mode='fan_out')\n"
     ]
    }
   ],
   "source": [
    "model = DenseNet(num_init_features=32,growth_rate=16,block_config=(4, 8, 16, 12))"
   ]
  },
  {
   "cell_type": "code",
   "execution_count": 21,
   "metadata": {
    "execution": {
     "iopub.execute_input": "2025-04-22T14:01:47.979171Z",
     "iopub.status.busy": "2025-04-22T14:01:47.978905Z",
     "iopub.status.idle": "2025-04-22T14:01:49.278985Z",
     "shell.execute_reply": "2025-04-22T14:01:49.278282Z",
     "shell.execute_reply.started": "2025-04-22T14:01:47.979154Z"
    },
    "trusted": true
   },
   "outputs": [
    {
     "data": {
      "text/plain": [
       "==========================================================================================\n",
       "Layer (type:depth-idx)                   Output Shape              Param #\n",
       "==========================================================================================\n",
       "DenseNet                                 [8, 1]                    --\n",
       "├─Sequential: 1-1                        [8, 364, 8, 4, 4]         --\n",
       "│    └─Conv3d: 2-1                       [8, 32, 130, 65, 65]      10,976\n",
       "│    └─BatchNorm3d: 2-2                  [8, 32, 130, 65, 65]      64\n",
       "│    └─ReLU: 2-3                         [8, 32, 130, 65, 65]      --\n",
       "│    └─MaxPool3d: 2-4                    [8, 32, 65, 33, 33]       --\n",
       "│    └─_DenseBlock: 2-5                  [8, 96, 65, 33, 33]       --\n",
       "│    │    └─_DenseLayer: 3-1             [8, 48, 65, 33, 33]       29,888\n",
       "│    │    └─_DenseLayer: 3-2             [8, 64, 65, 33, 33]       30,944\n",
       "│    │    └─_DenseLayer: 3-3             [8, 80, 65, 33, 33]       32,000\n",
       "│    │    └─_DenseLayer: 3-4             [8, 96, 65, 33, 33]       33,056\n",
       "│    └─_Transition: 2-6                  [8, 48, 32, 16, 16]       --\n",
       "│    │    └─BatchNorm3d: 3-5             [8, 96, 65, 33, 33]       192\n",
       "│    │    └─ReLU: 3-6                    [8, 96, 65, 33, 33]       --\n",
       "│    │    └─Conv3d: 3-7                  [8, 48, 65, 33, 33]       4,608\n",
       "│    │    └─AvgPool3d: 3-8               [8, 48, 32, 16, 16]       --\n",
       "│    └─_DenseBlock: 2-7                  [8, 176, 32, 16, 16]      --\n",
       "│    │    └─_DenseLayer: 3-9             [8, 64, 32, 16, 16]       30,944\n",
       "│    │    └─_DenseLayer: 3-10            [8, 80, 32, 16, 16]       32,000\n",
       "│    │    └─_DenseLayer: 3-11            [8, 96, 32, 16, 16]       33,056\n",
       "│    │    └─_DenseLayer: 3-12            [8, 112, 32, 16, 16]      34,112\n",
       "│    │    └─_DenseLayer: 3-13            [8, 128, 32, 16, 16]      35,168\n",
       "│    │    └─_DenseLayer: 3-14            [8, 144, 32, 16, 16]      36,224\n",
       "│    │    └─_DenseLayer: 3-15            [8, 160, 32, 16, 16]      37,280\n",
       "│    │    └─_DenseLayer: 3-16            [8, 176, 32, 16, 16]      38,336\n",
       "│    └─_Transition: 2-8                  [8, 88, 16, 8, 8]         --\n",
       "│    │    └─BatchNorm3d: 3-17            [8, 176, 32, 16, 16]      352\n",
       "│    │    └─ReLU: 3-18                   [8, 176, 32, 16, 16]      --\n",
       "│    │    └─Conv3d: 3-19                 [8, 88, 32, 16, 16]       15,488\n",
       "│    │    └─AvgPool3d: 3-20              [8, 88, 16, 8, 8]         --\n",
       "│    └─_DenseBlock: 2-9                  [8, 344, 16, 8, 8]        --\n",
       "│    │    └─_DenseLayer: 3-21            [8, 104, 16, 8, 8]        33,584\n",
       "│    │    └─_DenseLayer: 3-22            [8, 120, 16, 8, 8]        34,640\n",
       "│    │    └─_DenseLayer: 3-23            [8, 136, 16, 8, 8]        35,696\n",
       "│    │    └─_DenseLayer: 3-24            [8, 152, 16, 8, 8]        36,752\n",
       "│    │    └─_DenseLayer: 3-25            [8, 168, 16, 8, 8]        37,808\n",
       "│    │    └─_DenseLayer: 3-26            [8, 184, 16, 8, 8]        38,864\n",
       "│    │    └─_DenseLayer: 3-27            [8, 200, 16, 8, 8]        39,920\n",
       "│    │    └─_DenseLayer: 3-28            [8, 216, 16, 8, 8]        40,976\n",
       "│    │    └─_DenseLayer: 3-29            [8, 232, 16, 8, 8]        42,032\n",
       "│    │    └─_DenseLayer: 3-30            [8, 248, 16, 8, 8]        43,088\n",
       "│    │    └─_DenseLayer: 3-31            [8, 264, 16, 8, 8]        44,144\n",
       "│    │    └─_DenseLayer: 3-32            [8, 280, 16, 8, 8]        45,200\n",
       "│    │    └─_DenseLayer: 3-33            [8, 296, 16, 8, 8]        46,256\n",
       "│    │    └─_DenseLayer: 3-34            [8, 312, 16, 8, 8]        47,312\n",
       "│    │    └─_DenseLayer: 3-35            [8, 328, 16, 8, 8]        48,368\n",
       "│    │    └─_DenseLayer: 3-36            [8, 344, 16, 8, 8]        49,424\n",
       "│    └─_Transition: 2-10                 [8, 172, 8, 4, 4]         --\n",
       "│    │    └─BatchNorm3d: 3-37            [8, 344, 16, 8, 8]        688\n",
       "│    │    └─ReLU: 3-38                   [8, 344, 16, 8, 8]        --\n",
       "│    │    └─Conv3d: 3-39                 [8, 172, 16, 8, 8]        59,168\n",
       "│    │    └─AvgPool3d: 3-40              [8, 172, 8, 4, 4]         --\n",
       "│    └─_DenseBlock: 2-11                 [8, 364, 8, 4, 4]         --\n",
       "│    │    └─_DenseLayer: 3-41            [8, 188, 8, 4, 4]         39,128\n",
       "│    │    └─_DenseLayer: 3-42            [8, 204, 8, 4, 4]         40,184\n",
       "│    │    └─_DenseLayer: 3-43            [8, 220, 8, 4, 4]         41,240\n",
       "│    │    └─_DenseLayer: 3-44            [8, 236, 8, 4, 4]         42,296\n",
       "│    │    └─_DenseLayer: 3-45            [8, 252, 8, 4, 4]         43,352\n",
       "│    │    └─_DenseLayer: 3-46            [8, 268, 8, 4, 4]         44,408\n",
       "│    │    └─_DenseLayer: 3-47            [8, 284, 8, 4, 4]         45,464\n",
       "│    │    └─_DenseLayer: 3-48            [8, 300, 8, 4, 4]         46,520\n",
       "│    │    └─_DenseLayer: 3-49            [8, 316, 8, 4, 4]         47,576\n",
       "│    │    └─_DenseLayer: 3-50            [8, 332, 8, 4, 4]         48,632\n",
       "│    │    └─_DenseLayer: 3-51            [8, 348, 8, 4, 4]         49,688\n",
       "│    │    └─_DenseLayer: 3-52            [8, 364, 8, 4, 4]         50,744\n",
       "│    └─BatchNorm3d: 2-12                 [8, 364, 8, 4, 4]         728\n",
       "├─Linear: 1-2                            [8, 1]                    365\n",
       "==========================================================================================\n",
       "Total params: 1,698,933\n",
       "Trainable params: 1,698,933\n",
       "Non-trainable params: 0\n",
       "Total mult-adds (Units.GIGABYTES): 146.98\n",
       "==========================================================================================\n",
       "Input size (MB): 70.30\n",
       "Forward/backward pass size (MB): 8150.49\n",
       "Params size (MB): 6.80\n",
       "Estimated Total Size (MB): 8227.59\n",
       "=========================================================================================="
      ]
     },
     "execution_count": 21,
     "metadata": {},
     "output_type": "execute_result"
    }
   ],
   "source": [
    "from torchinfo import summary\n",
    "\n",
    "summary(model, input_size=(8, 1, 130, 130, 130))"
   ]
  },
  {
   "cell_type": "code",
   "execution_count": 22,
   "metadata": {
    "execution": {
     "iopub.execute_input": "2025-04-22T14:01:49.280630Z",
     "iopub.status.busy": "2025-04-22T14:01:49.279912Z",
     "iopub.status.idle": "2025-04-22T14:01:49.290341Z",
     "shell.execute_reply": "2025-04-22T14:01:49.289550Z",
     "shell.execute_reply.started": "2025-04-22T14:01:49.280606Z"
    },
    "trusted": true
   },
   "outputs": [],
   "source": [
    "from torchmetrics import MeanMetric\n",
    "\n",
    "class DenseNetModule(pl.LightningModule):\n",
    "    def __init__(self, model, lr=1e-3, weight_decay = 1e-2):\n",
    "        super().__init__()\n",
    "        self.model = model\n",
    "        self.lr = lr\n",
    "        self.weight_decay = weight_decay\n",
    "        # how confidence model is in it prediction\n",
    "        # tức model có thể rất tự tin trong quyết định nhưng thực tế lại sai\n",
    "        # BCE = y*log(y_pred) + (1 - y)*log(1 - y_pred)\n",
    "        self.criterion = nn.BCEWithLogitsLoss()\n",
    "        self.train_loss = MeanMetric()\n",
    "        self.val_loss = MeanMetric()\n",
    "        self.test_loss = MeanMetric()\n",
    "\n",
    "    def forward(self, x):\n",
    "        return self.model(x)\n",
    "\n",
    "    def training_step(self, batch, batch_idx):\n",
    "        x, y = batch\n",
    "        # x.shape  = (batch_size, in_channel, height, width, depth), y.shape = (batch_size)\n",
    "        logits = self(x.unsqueeze(1))\n",
    "        \n",
    "        loss = self.criterion(logits, y.float().unsqueeze(1))\n",
    "        self.train_loss(loss)\n",
    "        acc = ((torch.sigmoid(logits) > 0.5).float() == y.unsqueeze(1)).float().mean()\n",
    "        \n",
    "        self.log('train_loss', self.train_loss, on_step=False, on_epoch=True, prog_bar=True)\n",
    "        self.log('train_acc', acc, on_step=False, on_epoch=True, prog_bar=True)\n",
    "        \n",
    "        return loss\n",
    "\n",
    "    def validation_step(self, batch, batch_idx):\n",
    "        x, y = batch\n",
    "        logits = self(x.unsqueeze(1))\n",
    "        \n",
    "        loss = self.criterion(logits, y.float().unsqueeze(1))\n",
    "        self.val_loss(loss)\n",
    "        acc = ((torch.sigmoid(logits) > 0.5).float() == y.unsqueeze(1)).float().mean()\n",
    "        \n",
    "        self.log('val_loss', self.val_loss, on_step=False, on_epoch=True, prog_bar=True)\n",
    "        self.log('val_acc', acc, on_step=False, on_epoch=True, prog_bar=True)\n",
    "\n",
    "    def test_step(self, batch, batch_idx):\n",
    "        x, y = batch\n",
    "        logits = self(x.unsqueeze(1))\n",
    "        \n",
    "        loss = self.criterion(logits, y.float().unsqueeze(1))\n",
    "        self.test_loss(loss)\n",
    "        acc = ((torch.sigmoid(logits) > 0.5).float() == y.unsqueeze(1)).float().mean()\n",
    "        \n",
    "        self.log('test_loss', self.test_loss, on_step=False, on_epoch=True, prog_bar=True)\n",
    "        self.log('test_acc', acc, on_step=False, on_epoch=True, prog_bar=True)\n",
    "\n",
    "    def configure_optimizers(self):\n",
    "        optimizer =  torch.optim.AdamW(self.parameters(), lr=self.lr, weight_decay = self.weight_decay)\n",
    "        scheduler = torch.optim.lr_scheduler.ExponentialLR(optimizer, gamma = 0.95)\n",
    "\n",
    "        return {\n",
    "           \"optimizer\": optimizer,\n",
    "           \"lr_scheduler\": {\n",
    "               \"scheduler\": scheduler,\n",
    "               \"monitor\": \"val_loss\",\n",
    "           },\n",
    "        }"
   ]
  },
  {
   "cell_type": "code",
   "execution_count": 23,
   "metadata": {
    "collapsed": true,
    "execution": {
     "iopub.execute_input": "2025-04-22T14:01:49.291458Z",
     "iopub.status.busy": "2025-04-22T14:01:49.291187Z",
     "iopub.status.idle": "2025-04-22T14:39:34.892510Z",
     "shell.execute_reply": "2025-04-22T14:39:34.888081Z",
     "shell.execute_reply.started": "2025-04-22T14:01:49.291435Z"
    },
    "jupyter": {
     "outputs_hidden": true
    },
    "trusted": true
   },
   "outputs": [
    {
     "name": "stderr",
     "output_type": "stream",
     "text": [
      "\u001b[34m\u001b[1mwandb\u001b[0m: Using wandb-core as the SDK backend.  Please refer to https://wandb.me/wandb-core for more information.\n"
     ]
    },
    {
     "data": {
      "text/html": [
       "Tracking run with wandb version 0.19.6"
      ],
      "text/plain": [
       "<IPython.core.display.HTML object>"
      ]
     },
     "metadata": {},
     "output_type": "display_data"
    },
    {
     "data": {
      "text/html": [
       "Run data is saved locally in <code>./wandb/run-20250422_140149-ds051u19</code>"
      ],
      "text/plain": [
       "<IPython.core.display.HTML object>"
      ]
     },
     "metadata": {},
     "output_type": "display_data"
    },
    {
     "data": {
      "text/html": [
       "Syncing run <strong><a href='https://wandb.ai/iai-uet-vnu/sex-classification/runs/ds051u19' target=\"_blank\">glorious-salad-10</a></strong> to <a href='https://wandb.ai/iai-uet-vnu/sex-classification' target=\"_blank\">Weights & Biases</a> (<a href='https://wandb.me/developer-guide' target=\"_blank\">docs</a>)<br>"
      ],
      "text/plain": [
       "<IPython.core.display.HTML object>"
      ]
     },
     "metadata": {},
     "output_type": "display_data"
    },
    {
     "data": {
      "text/html": [
       " View project at <a href='https://wandb.ai/iai-uet-vnu/sex-classification' target=\"_blank\">https://wandb.ai/iai-uet-vnu/sex-classification</a>"
      ],
      "text/plain": [
       "<IPython.core.display.HTML object>"
      ]
     },
     "metadata": {},
     "output_type": "display_data"
    },
    {
     "data": {
      "text/html": [
       " View run at <a href='https://wandb.ai/iai-uet-vnu/sex-classification/runs/ds051u19' target=\"_blank\">https://wandb.ai/iai-uet-vnu/sex-classification/runs/ds051u19</a>"
      ],
      "text/plain": [
       "<IPython.core.display.HTML object>"
      ]
     },
     "metadata": {},
     "output_type": "display_data"
    },
    {
     "data": {
      "application/vnd.jupyter.widget-view+json": {
       "model_id": "",
       "version_major": 2,
       "version_minor": 0
      },
      "text/plain": [
       "Sanity Checking: |          | 0/? [00:00<?, ?it/s]"
      ]
     },
     "metadata": {},
     "output_type": "display_data"
    },
    {
     "data": {
      "application/vnd.jupyter.widget-view+json": {
       "model_id": "6df8dd9ba11046d091ba04c63f40c165",
       "version_major": 2,
       "version_minor": 0
      },
      "text/plain": [
       "Training: |          | 0/? [00:00<?, ?it/s]"
      ]
     },
     "metadata": {},
     "output_type": "display_data"
    },
    {
     "data": {
      "application/vnd.jupyter.widget-view+json": {
       "model_id": "",
       "version_major": 2,
       "version_minor": 0
      },
      "text/plain": [
       "Validation: |          | 0/? [00:00<?, ?it/s]"
      ]
     },
     "metadata": {},
     "output_type": "display_data"
    },
    {
     "data": {
      "application/vnd.jupyter.widget-view+json": {
       "model_id": "",
       "version_major": 2,
       "version_minor": 0
      },
      "text/plain": [
       "Validation: |          | 0/? [00:00<?, ?it/s]"
      ]
     },
     "metadata": {},
     "output_type": "display_data"
    },
    {
     "data": {
      "application/vnd.jupyter.widget-view+json": {
       "model_id": "",
       "version_major": 2,
       "version_minor": 0
      },
      "text/plain": [
       "Validation: |          | 0/? [00:00<?, ?it/s]"
      ]
     },
     "metadata": {},
     "output_type": "display_data"
    },
    {
     "data": {
      "application/vnd.jupyter.widget-view+json": {
       "model_id": "",
       "version_major": 2,
       "version_minor": 0
      },
      "text/plain": [
       "Validation: |          | 0/? [00:00<?, ?it/s]"
      ]
     },
     "metadata": {},
     "output_type": "display_data"
    },
    {
     "data": {
      "application/vnd.jupyter.widget-view+json": {
       "model_id": "",
       "version_major": 2,
       "version_minor": 0
      },
      "text/plain": [
       "Validation: |          | 0/? [00:00<?, ?it/s]"
      ]
     },
     "metadata": {},
     "output_type": "display_data"
    },
    {
     "data": {
      "application/vnd.jupyter.widget-view+json": {
       "model_id": "",
       "version_major": 2,
       "version_minor": 0
      },
      "text/plain": [
       "Validation: |          | 0/? [00:00<?, ?it/s]"
      ]
     },
     "metadata": {},
     "output_type": "display_data"
    },
    {
     "data": {
      "application/vnd.jupyter.widget-view+json": {
       "model_id": "",
       "version_major": 2,
       "version_minor": 0
      },
      "text/plain": [
       "Validation: |          | 0/? [00:00<?, ?it/s]"
      ]
     },
     "metadata": {},
     "output_type": "display_data"
    },
    {
     "data": {
      "application/vnd.jupyter.widget-view+json": {
       "model_id": "",
       "version_major": 2,
       "version_minor": 0
      },
      "text/plain": [
       "Validation: |          | 0/? [00:00<?, ?it/s]"
      ]
     },
     "metadata": {},
     "output_type": "display_data"
    },
    {
     "data": {
      "application/vnd.jupyter.widget-view+json": {
       "model_id": "",
       "version_major": 2,
       "version_minor": 0
      },
      "text/plain": [
       "Validation: |          | 0/? [00:00<?, ?it/s]"
      ]
     },
     "metadata": {},
     "output_type": "display_data"
    },
    {
     "data": {
      "application/vnd.jupyter.widget-view+json": {
       "model_id": "",
       "version_major": 2,
       "version_minor": 0
      },
      "text/plain": [
       "Validation: |          | 0/? [00:00<?, ?it/s]"
      ]
     },
     "metadata": {},
     "output_type": "display_data"
    },
    {
     "ename": "TypeError",
     "evalue": "`model` must be a `LightningModule` or `torch._dynamo.OptimizedModule`, got `DataLoader`",
     "output_type": "error",
     "traceback": [
      "\u001b[0;31m---------------------------------------------------------------------------\u001b[0m",
      "\u001b[0;31mTypeError\u001b[0m                                 Traceback (most recent call last)",
      "\u001b[0;32m/tmp/ipykernel_31/3262610894.py\u001b[0m in \u001b[0;36m<cell line: 0>\u001b[0;34m()\u001b[0m\n\u001b[1;32m     23\u001b[0m \u001b[0;31m# Train\u001b[0m\u001b[0;34m\u001b[0m\u001b[0;34m\u001b[0m\u001b[0m\n\u001b[1;32m     24\u001b[0m \u001b[0mtrainer\u001b[0m\u001b[0;34m.\u001b[0m\u001b[0mfit\u001b[0m\u001b[0;34m(\u001b[0m\u001b[0mmodule\u001b[0m\u001b[0;34m,\u001b[0m \u001b[0mtrainloader\u001b[0m\u001b[0;34m,\u001b[0m \u001b[0mvalloader\u001b[0m\u001b[0;34m)\u001b[0m\u001b[0;34m\u001b[0m\u001b[0;34m\u001b[0m\u001b[0m\n\u001b[0;32m---> 25\u001b[0;31m \u001b[0mtrainer\u001b[0m\u001b[0;34m.\u001b[0m\u001b[0mtest\u001b[0m\u001b[0;34m(\u001b[0m\u001b[0mtestloader\u001b[0m\u001b[0;34m)\u001b[0m\u001b[0;34m\u001b[0m\u001b[0;34m\u001b[0m\u001b[0m\n\u001b[0m\u001b[1;32m     26\u001b[0m \u001b[0mwandb_logger\u001b[0m\u001b[0;34m.\u001b[0m\u001b[0mexperiment\u001b[0m\u001b[0;34m.\u001b[0m\u001b[0msave\u001b[0m\u001b[0;34m(\u001b[0m\u001b[0;34m\"checkpoints/*.ckpt\"\u001b[0m\u001b[0;34m)\u001b[0m\u001b[0;34m\u001b[0m\u001b[0;34m\u001b[0m\u001b[0m\n\u001b[1;32m     27\u001b[0m \u001b[0mwandb\u001b[0m\u001b[0;34m.\u001b[0m\u001b[0mfinish\u001b[0m\u001b[0;34m(\u001b[0m\u001b[0;34m)\u001b[0m\u001b[0;34m\u001b[0m\u001b[0;34m\u001b[0m\u001b[0m\n",
      "\u001b[0;32m/usr/local/lib/python3.11/dist-packages/pytorch_lightning/trainer/trainer.py\u001b[0m in \u001b[0;36mtest\u001b[0;34m(self, model, dataloaders, ckpt_path, verbose, datamodule)\u001b[0m\n\u001b[1;32m    767\u001b[0m                 )\n\u001b[1;32m    768\u001b[0m         \u001b[0;32melse\u001b[0m\u001b[0;34m:\u001b[0m\u001b[0;34m\u001b[0m\u001b[0;34m\u001b[0m\u001b[0m\n\u001b[0;32m--> 769\u001b[0;31m             \u001b[0mmodel\u001b[0m \u001b[0;34m=\u001b[0m \u001b[0m_maybe_unwrap_optimized\u001b[0m\u001b[0;34m(\u001b[0m\u001b[0mmodel\u001b[0m\u001b[0;34m)\u001b[0m\u001b[0;34m\u001b[0m\u001b[0;34m\u001b[0m\u001b[0m\n\u001b[0m\u001b[1;32m    770\u001b[0m             \u001b[0mself\u001b[0m\u001b[0;34m.\u001b[0m\u001b[0mstrategy\u001b[0m\u001b[0;34m.\u001b[0m\u001b[0m_lightning_module\u001b[0m \u001b[0;34m=\u001b[0m \u001b[0mmodel\u001b[0m\u001b[0;34m\u001b[0m\u001b[0;34m\u001b[0m\u001b[0m\n\u001b[1;32m    771\u001b[0m         \u001b[0m_verify_strategy_supports_compile\u001b[0m\u001b[0;34m(\u001b[0m\u001b[0mself\u001b[0m\u001b[0;34m.\u001b[0m\u001b[0mlightning_module\u001b[0m\u001b[0;34m,\u001b[0m \u001b[0mself\u001b[0m\u001b[0;34m.\u001b[0m\u001b[0mstrategy\u001b[0m\u001b[0;34m)\u001b[0m\u001b[0;34m\u001b[0m\u001b[0;34m\u001b[0m\u001b[0m\n",
      "\u001b[0;32m/usr/local/lib/python3.11/dist-packages/pytorch_lightning/utilities/compile.py\u001b[0m in \u001b[0;36m_maybe_unwrap_optimized\u001b[0;34m(model)\u001b[0m\n\u001b[1;32m    109\u001b[0m         \u001b[0;32mreturn\u001b[0m \u001b[0mmodel\u001b[0m\u001b[0;34m\u001b[0m\u001b[0;34m\u001b[0m\u001b[0m\n\u001b[1;32m    110\u001b[0m     \u001b[0m_check_mixed_imports\u001b[0m\u001b[0;34m(\u001b[0m\u001b[0mmodel\u001b[0m\u001b[0;34m)\u001b[0m\u001b[0;34m\u001b[0m\u001b[0;34m\u001b[0m\u001b[0m\n\u001b[0;32m--> 111\u001b[0;31m     raise TypeError(\n\u001b[0m\u001b[1;32m    112\u001b[0m         \u001b[0;34mf\"`model` must be a `LightningModule` or `torch._dynamo.OptimizedModule`, got `{type(model).__qualname__}`\"\u001b[0m\u001b[0;34m\u001b[0m\u001b[0;34m\u001b[0m\u001b[0m\n\u001b[1;32m    113\u001b[0m     )\n",
      "\u001b[0;31mTypeError\u001b[0m: `model` must be a `LightningModule` or `torch._dynamo.OptimizedModule`, got `DataLoader`"
     ]
    }
   ],
   "source": [
    "from pytorch_lightning.loggers import WandbLogger\n",
    "from pytorch_lightning import Trainer\n",
    "from pytorch_lightning.callbacks import ModelCheckpoint, EarlyStopping\n",
    "\n",
    "\n",
    "wandb_logger = WandbLogger(project=\"sex-classification\", log_model=True)\n",
    "module = DenseNetModule(model, lr=1e-4)\n",
    "\n",
    "# Checkpoint callback\n",
    "checkpoint_cb = ModelCheckpoint(monitor='val_loss', save_top_k=1, mode='min')\n",
    "early_stopping = EarlyStopping(monitor=\"val_loss\", patience=5, mode=\"min\", verbose=True)\n",
    "\n",
    "# Trainer\n",
    "trainer = Trainer(\n",
    "    max_epochs=10,\n",
    "    logger=wandb_logger,\n",
    "    callbacks=[checkpoint_cb, early_stopping],\n",
    "    accelerator=\"auto\",\n",
    "    devices=\"auto\",\n",
    "    log_every_n_steps=10,\n",
    ")\n",
    "\n",
    "# Train\n",
    "trainer.fit(module, trainloader, valloader)"
   ]
  },
  {
   "cell_type": "code",
   "execution_count": 24,
   "metadata": {
    "execution": {
     "iopub.execute_input": "2025-04-22T14:39:59.486687Z",
     "iopub.status.busy": "2025-04-22T14:39:59.485953Z",
     "iopub.status.idle": "2025-04-22T14:41:04.770198Z",
     "shell.execute_reply": "2025-04-22T14:41:04.769559Z",
     "shell.execute_reply.started": "2025-04-22T14:39:59.486657Z"
    },
    "trusted": true
   },
   "outputs": [
    {
     "data": {
      "application/vnd.jupyter.widget-view+json": {
       "model_id": "736149062a2144eb99ae4c3cd069e4c0",
       "version_major": 2,
       "version_minor": 0
      },
      "text/plain": [
       "Testing: |          | 0/? [00:00<?, ?it/s]"
      ]
     },
     "metadata": {},
     "output_type": "display_data"
    },
    {
     "data": {
      "text/html": [
       "<pre style=\"white-space:pre;overflow-x:auto;line-height:normal;font-family:Menlo,'DejaVu Sans Mono',consolas,'Courier New',monospace\">┏━━━━━━━━━━━━━━━━━━━━━━━━━━━┳━━━━━━━━━━━━━━━━━━━━━━━━━━━┓\n",
       "┃<span style=\"font-weight: bold\">        Test metric        </span>┃<span style=\"font-weight: bold\">       DataLoader 0        </span>┃\n",
       "┡━━━━━━━━━━━━━━━━━━━━━━━━━━━╇━━━━━━━━━━━━━━━━━━━━━━━━━━━┩\n",
       "│<span style=\"color: #008080; text-decoration-color: #008080\">         test_acc          </span>│<span style=\"color: #800080; text-decoration-color: #800080\">    0.8930373191833496     </span>│\n",
       "│<span style=\"color: #008080; text-decoration-color: #008080\">         test_loss         </span>│<span style=\"color: #800080; text-decoration-color: #800080\">    0.30256399512290955    </span>│\n",
       "└───────────────────────────┴───────────────────────────┘\n",
       "</pre>\n"
      ],
      "text/plain": [
       "┏━━━━━━━━━━━━━━━━━━━━━━━━━━━┳━━━━━━━━━━━━━━━━━━━━━━━━━━━┓\n",
       "┃\u001b[1m \u001b[0m\u001b[1m       Test metric       \u001b[0m\u001b[1m \u001b[0m┃\u001b[1m \u001b[0m\u001b[1m      DataLoader 0       \u001b[0m\u001b[1m \u001b[0m┃\n",
       "┡━━━━━━━━━━━━━━━━━━━━━━━━━━━╇━━━━━━━━━━━━━━━━━━━━━━━━━━━┩\n",
       "│\u001b[36m \u001b[0m\u001b[36m        test_acc         \u001b[0m\u001b[36m \u001b[0m│\u001b[35m \u001b[0m\u001b[35m   0.8930373191833496    \u001b[0m\u001b[35m \u001b[0m│\n",
       "│\u001b[36m \u001b[0m\u001b[36m        test_loss        \u001b[0m\u001b[36m \u001b[0m│\u001b[35m \u001b[0m\u001b[35m   0.30256399512290955   \u001b[0m\u001b[35m \u001b[0m│\n",
       "└───────────────────────────┴───────────────────────────┘\n"
      ]
     },
     "metadata": {},
     "output_type": "display_data"
    },
    {
     "name": "stderr",
     "output_type": "stream",
     "text": [
      "\u001b[34m\u001b[1mwandb\u001b[0m: \u001b[33mWARNING\u001b[0m Symlinked 0 file into the W&B run directory, call wandb.save again to sync new files.\n"
     ]
    },
    {
     "data": {
      "text/html": [],
      "text/plain": [
       "<IPython.core.display.HTML object>"
      ]
     },
     "metadata": {},
     "output_type": "display_data"
    },
    {
     "data": {
      "text/html": [
       "<br>    <style><br>        .wandb-row {<br>            display: flex;<br>            flex-direction: row;<br>            flex-wrap: wrap;<br>            justify-content: flex-start;<br>            width: 100%;<br>        }<br>        .wandb-col {<br>            display: flex;<br>            flex-direction: column;<br>            flex-basis: 100%;<br>            flex: 1;<br>            padding: 10px;<br>        }<br>    </style><br><div class=\"wandb-row\"><div class=\"wandb-col\"><h3>Run history:</h3><br/><table class=\"wandb\"><tr><td>epoch</td><td>▁▁▂▂▂▂▃▃▄▄▅▅▅▅▆▆▇▇▇▇█</td></tr><tr><td>test_acc</td><td>▁</td></tr><tr><td>test_loss</td><td>▁</td></tr><tr><td>train_acc</td><td>▁▅▆▆▇▇▇▇██</td></tr><tr><td>train_loss</td><td>█▅▄▃▃▃▂▂▁▁</td></tr><tr><td>trainer/global_step</td><td>▁▁▂▂▃▃▃▃▄▄▅▅▆▆▆▆▇▇███</td></tr><tr><td>val_acc</td><td>▁▆▆███▆██▇</td></tr><tr><td>val_loss</td><td>█▂▂▁▁▁▂▁▁▂</td></tr></table><br/></div><div class=\"wandb-col\"><h3>Run summary:</h3><br/><table class=\"wandb\"><tr><td>epoch</td><td>10</td></tr><tr><td>test_acc</td><td>0.89304</td></tr><tr><td>test_loss</td><td>0.30256</td></tr><tr><td>train_acc</td><td>0.96997</td></tr><tr><td>train_loss</td><td>0.10127</td></tr><tr><td>trainer/global_step</td><td>2170</td></tr><tr><td>val_acc</td><td>0.87247</td></tr><tr><td>val_loss</td><td>0.30037</td></tr></table><br/></div></div>"
      ],
      "text/plain": [
       "<IPython.core.display.HTML object>"
      ]
     },
     "metadata": {},
     "output_type": "display_data"
    },
    {
     "data": {
      "text/html": [
       " View run <strong style=\"color:#cdcd00\">glorious-salad-10</strong> at: <a href='https://wandb.ai/iai-uet-vnu/sex-classification/runs/ds051u19' target=\"_blank\">https://wandb.ai/iai-uet-vnu/sex-classification/runs/ds051u19</a><br> View project at: <a href='https://wandb.ai/iai-uet-vnu/sex-classification' target=\"_blank\">https://wandb.ai/iai-uet-vnu/sex-classification</a><br>Synced 5 W&B file(s), 0 media file(s), 2 artifact file(s) and 0 other file(s)"
      ],
      "text/plain": [
       "<IPython.core.display.HTML object>"
      ]
     },
     "metadata": {},
     "output_type": "display_data"
    },
    {
     "data": {
      "text/html": [
       "Find logs at: <code>./wandb/run-20250422_140149-ds051u19/logs</code>"
      ],
      "text/plain": [
       "<IPython.core.display.HTML object>"
      ]
     },
     "metadata": {},
     "output_type": "display_data"
    }
   ],
   "source": [
    "trainer.test(module, testloader)\n",
    "wandb_logger.experiment.save(\"checkpoints/*.ckpt\")\n",
    "wandb.finish()"
   ]
  },
  {
   "cell_type": "code",
   "execution_count": null,
   "metadata": {
    "trusted": true
   },
   "outputs": [],
   "source": [
    "device = \"cuda:0\"\n",
    "model = DenseNet(num_init_features=32,growth_rate=16,block_config=(4, 8, 16, 12)).to(device)\n",
    "MAX_EPOCH = 10\n",
    "\n",
    "lr = 1e-4\n",
    "weight_decay = 1e-2\n",
    "optimizer = torch.optim.Adam(model.parameters(), lr=lr)\n",
    "criterion = nn.BCEWithLogitsLoss().to(device)\n",
    "scheduler = torch.optim.lr_scheduler.ExponentialLR(optimizer, gamma = 0.95)\n",
    "losses, vallosses = [], []\n",
    "\n",
    "torch.set_grad_enabled(True)\n",
    "\n",
    "for epoch in range(MAX_EPOCH):\n",
    "    model.train(True)\n",
    "    losses, vallosses = 0, 0\n",
    "    for _, batch in enumerate(trainloader):\n",
    "        x, y = batch[0].to(device), batch[1].to(device)\n",
    "        optimizer.zero_grad()\n",
    "        output = model(x.unsqueeze(1))\n",
    "        loss = criterion(output, y.float().unsqueeze(1))\n",
    "        loss.backward()\n",
    "        optimizer.step()\n",
    "        losses += loss.item()\n",
    "    print(f\"Epoch: {epoch}\")\n",
    "    print(f\"Loss: {float(losses / len(trainloader))}\")\n",
    "    model.eval()\n",
    "    with torch.no_grad():\n",
    "        for _, batch in enumerate(valloader):\n",
    "            x, y = batch[0].to(device), batch[1].to(device)\n",
    "            voutput = model(x.unsqueeze(1))\n",
    "            vloss = criterion(voutput, y.float().unsqueeze(1))\n",
    "            vallosses += vloss.item()\n",
    "    print(f\"Valid loss: {float(vallosses / len(valloader))}\")\n",
    "    scheduler.step()"
   ]
  }
 ],
 "metadata": {
  "kaggle": {
   "accelerator": "gpu",
   "dataSources": [
    {
     "datasetId": 7180861,
     "sourceId": 11460111,
     "sourceType": "datasetVersion"
    }
   ],
   "dockerImageVersionId": 31011,
   "isGpuEnabled": true,
   "isInternetEnabled": true,
   "language": "python",
   "sourceType": "notebook"
  },
  "kernelspec": {
   "display_name": "python3.11",
   "language": "python",
   "name": "python3"
  },
  "language_info": {
   "codemirror_mode": {
    "name": "ipython",
    "version": 3
   },
   "file_extension": ".py",
   "mimetype": "text/x-python",
   "name": "python",
   "nbconvert_exporter": "python",
   "pygments_lexer": "ipython3",
   "version": "3.11.9"
  }
 },
 "nbformat": 4,
 "nbformat_minor": 4
}
